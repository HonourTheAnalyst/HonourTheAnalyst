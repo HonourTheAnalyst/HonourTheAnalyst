{
 "cells": [
  {
   "cell_type": "markdown",
   "id": "2c93aa15-3652-46cb-8fda-06d349450c2d",
   "metadata": {
    "jp-MarkdownHeadingCollapsed": true
   },
   "source": [
    "# BMI Calculator build"
   ]
  },
  {
   "cell_type": "code",
   "execution_count": 24,
   "id": "b2870baf-48cd-4e5d-a312-c050053e5fa8",
   "metadata": {},
   "outputs": [
    {
     "name": "stdin",
     "output_type": "stream",
     "text": [
      "Enter your name:  Honour\n",
      "Enter your weight in pounds:  200\n",
      "Enter your height in inches:  82\n"
     ]
    },
    {
     "name": "stdout",
     "output_type": "stream",
     "text": [
      "20.91017251635931\n"
     ]
    }
   ],
   "source": [
    "name = input(\"Enter your name: \")\n",
    "\n",
    "weight = int(input(\"Enter your weight in pounds: \"))\n",
    "\n",
    "height = int(input(\"Enter your height in inches: \"))\n",
    "\n",
    "BMI = (weight * 703) / (height * height )\n",
    "\n",
    "print(BMI)"
   ]
  },
  {
   "cell_type": "code",
   "execution_count": 14,
   "id": "ea0e31fc-a3c2-49f1-a098-cfa255b19c9b",
   "metadata": {},
   "outputs": [
    {
     "data": {
      "text/plain": [
       "str"
      ]
     },
     "execution_count": 14,
     "metadata": {},
     "output_type": "execute_result"
    }
   ],
   "source": [
    "type(height)"
   ]
  },
  {
   "cell_type": "code",
   "execution_count": null,
   "id": "e26f7f78-6ad3-471d-9f8d-06336ab26f38",
   "metadata": {},
   "outputs": [],
   "source": []
  },
  {
   "cell_type": "code",
   "execution_count": null,
   "id": "84c9d609-6fa1-4f57-98cb-a28a632ff161",
   "metadata": {},
   "outputs": [],
   "source": []
  },
  {
   "cell_type": "code",
   "execution_count": null,
   "id": "558c1cf0-c64e-4016-96d4-61da302f661a",
   "metadata": {},
   "outputs": [],
   "source": [
    "Underweight = <18.5\n",
    "Normal weight = 18.5–24.9\n",
    "Overweight = 25–29.9\n",
    "Obesity = BMI of 30 or greater"
   ]
  },
  {
   "cell_type": "code",
   "execution_count": null,
   "id": "f9d7ea7f-7578-4344-95d1-16ce312990fe",
   "metadata": {},
   "outputs": [],
   "source": [
    "#BMI = (weight in pounds x 703) / (height in inches x height in inches)"
   ]
  },
  {
   "cell_type": "code",
   "execution_count": 26,
   "id": "b5198b36-412f-44d4-838d-6b993abc4d06",
   "metadata": {},
   "outputs": [
    {
     "name": "stdout",
     "output_type": "stream",
     "text": [
      "Honour, you are Normal weight.\n"
     ]
    }
   ],
   "source": [
    "if BMI > 0:\n",
    "    if(BMI < 18.5):\n",
    "        print(name +\", you are Underweight.\")\n",
    "    elif (BMI <= 24.9):\n",
    "        print(name +\", you are Normal weight.\")\n",
    "    elif (BMI < 29.9):\n",
    "        print(name +\", you are Overweight.\")\n",
    "    elif (BMI < 34.9):\n",
    "        print(name +\", you are Obese.\")\n",
    "    elif (BMI < 39.9):\n",
    "        print(name +\", you are Severely Obese.\")\n",
    "    else:\n",
    "        print(name +\", you are Morbidly Obese.\")\n",
    "else:\n",
    "    print(\"Enter valid input\")"
   ]
  },
  {
   "cell_type": "code",
   "execution_count": null,
   "id": "b8e5ff37-b3df-490e-8589-6e1768483d6d",
   "metadata": {},
   "outputs": [],
   "source": []
  },
  {
   "cell_type": "markdown",
   "id": "d70308af-e45c-4424-8908-5aabdab59242",
   "metadata": {
    "jp-MarkdownHeadingCollapsed": true
   },
   "source": [
    "# Calculator"
   ]
  },
  {
   "cell_type": "code",
   "execution_count": 40,
   "id": "0b071621-bbe2-4d37-b55f-09c87bc83a28",
   "metadata": {},
   "outputs": [
    {
     "name": "stdin",
     "output_type": "stream",
     "text": [
      "Enter your name:  Honour\n",
      "Enter your weight in pounds:  200\n",
      "Enter your height in inches:  82\n"
     ]
    },
    {
     "name": "stdout",
     "output_type": "stream",
     "text": [
      "20.91017251635931\n",
      "Honour, you are Normal weight.\n",
      "Go to the gym and build up some muscle.\n"
     ]
    }
   ],
   "source": [
    "name = input(\"Enter your name: \")\n",
    "\n",
    "weight = int(input(\"Enter your weight in pounds: \"))\n",
    "\n",
    "height = int(input(\"Enter your height in inches: \"))\n",
    "\n",
    "BMI = (weight * 703) / (height * height )\n",
    "\n",
    "print(BMI)\n",
    "\n",
    "if BMI > 0:\n",
    "    if(BMI < 18.5):\n",
    "        print(name +\", you are Underweight.\")\n",
    "    elif (BMI <= 24.9):\n",
    "        print(name +\", you are Normal weight.\")\n",
    "    elif (BMI < 29.9):\n",
    "        print(name +\", you are Overweight.\")\n",
    "    elif (BMI < 34.9):\n",
    "        print(name +\", you are Obese.\")\n",
    "    elif (BMI < 39.9):\n",
    "        print(name +\", you are Severely Obese.\")\n",
    "    else:\n",
    "        print(name +\", you are Morbidly Obese.\")\n",
    "else:\n",
    "    print(\"Enter valid input\")\n",
    "\n",
    "if name == ('Honour'):\n",
    "    print('Go to the gym and build up some muscle.')"
   ]
  },
  {
   "cell_type": "code",
   "execution_count": null,
   "id": "d44da308-74d2-4a46-b9aa-337fb40a1304",
   "metadata": {},
   "outputs": [],
   "source": []
  },
  {
   "cell_type": "code",
   "execution_count": null,
   "id": "09bc96c9-6342-45ae-b7b0-e5a9a9e3884c",
   "metadata": {},
   "outputs": [],
   "source": []
  },
  {
   "cell_type": "code",
   "execution_count": null,
   "id": "3791d10e-5657-4350-aac2-718a54a6926d",
   "metadata": {},
   "outputs": [],
   "source": []
  },
  {
   "cell_type": "code",
   "execution_count": null,
   "id": "ac39498a-866b-4811-acac-1cb6969980ff",
   "metadata": {},
   "outputs": [],
   "source": []
  }
 ],
 "metadata": {
  "kernelspec": {
   "display_name": "Python 3 (ipykernel)",
   "language": "python",
   "name": "python3"
  },
  "language_info": {
   "codemirror_mode": {
    "name": "ipython",
    "version": 3
   },
   "file_extension": ".py",
   "mimetype": "text/x-python",
   "name": "python",
   "nbconvert_exporter": "python",
   "pygments_lexer": "ipython3",
   "version": "3.11.7"
  }
 },
 "nbformat": 4,
 "nbformat_minor": 5
}

{
 "cells": [
  {
   "cell_type": "markdown",
   "id": "dbb6f654-71de-4cb2-8aa5-f2d9d512b473",
   "metadata": {},
   "source": [
    "# Automatic File Sorter in File Explorer build"
   ]
  },
  {
   "cell_type": "code",
   "execution_count": 25,
   "id": "794ca731-c00e-494f-aec9-30396a953a0e",
   "metadata": {},
   "outputs": [],
   "source": [
    "import os, shutil"
   ]
  },
  {
   "cell_type": "code",
   "execution_count": 27,
   "id": "72ed0987-4568-40e5-8ada-226d75ab4109",
   "metadata": {},
   "outputs": [],
   "source": [
    "path = r\"C:/Users/USER/Documents/Assignment/\""
   ]
  },
  {
   "cell_type": "code",
   "execution_count": 29,
   "id": "14150d4b-102f-4963-b3e5-d70a9f86f6aa",
   "metadata": {},
   "outputs": [
    {
     "data": {
      "text/plain": [
       "['docx files',\n",
       " 'epub files',\n",
       " 'IMG_20190426_130927.jpg',\n",
       " 'improve speed.txt',\n",
       " 'jpg files',\n",
       " 'Maritime Economics Assignment.docx',\n",
       " 'Maritime Law Assignment.docx',\n",
       " 'mobi files',\n",
       " 'Osaro CV (1).pdf',\n",
       " 'Osaro CV .docx',\n",
       " 'Osaro CV .pdf',\n",
       " 'pdf files',\n",
       " 'superintelligence-paths-dangers-strategies-by-nick-bostrom.pdf',\n",
       " 'Superintelligence_ Paths, Dangers, Strategies ( PDFDrive ).epub',\n",
       " 'Superintelligence_ Paths, Dangers, Strategies ( PDFDrive ).mobi',\n",
       " 'Superintelligence_ Paths, Dangers, Strategies ( PDFDrive ).pdf',\n",
       " 'txt files']"
      ]
     },
     "execution_count": 29,
     "metadata": {},
     "output_type": "execute_result"
    }
   ],
   "source": [
    "os.listdir(path)"
   ]
  },
  {
   "cell_type": "code",
   "execution_count": 31,
   "id": "83cd6451-d8a9-4232-ab04-d3d141340d32",
   "metadata": {},
   "outputs": [
    {
     "data": {
      "text/plain": [
       "True"
      ]
     },
     "execution_count": 31,
     "metadata": {},
     "output_type": "execute_result"
    }
   ],
   "source": [
    "os.path.exists(path + 'jpg files')"
   ]
  },
  {
   "cell_type": "code",
   "execution_count": 33,
   "id": "ba3ab046-365f-404b-9590-60472c43d04c",
   "metadata": {},
   "outputs": [],
   "source": [
    "folder_names = ['jpg files', 'txt files', 'docx files', 'pdf files', 'epub files', 'mobi files']\n",
    "\n",
    "for loop in range(0,5):\n",
    "    os.path.exists(path + folder_names[loop])"
   ]
  },
  {
   "cell_type": "code",
   "execution_count": 35,
   "id": "442b786d-69a1-49ea-8915-0416494404b0",
   "metadata": {},
   "outputs": [],
   "source": [
    "folder_names = ['jpg files', 'txt files', 'docx files', 'pdf files', 'epub files', 'mobi files']\n",
    "\n",
    "for loop in range(0,6):\n",
    "    if not os.path.exists(path + folder_names[loop]):\n",
    "        print(path + folder_names[loop])\n",
    "        os.makedirs((path + folder_names[loop]))"
   ]
  },
  {
   "cell_type": "code",
   "execution_count": 37,
   "id": "6b4bd690-1e85-44af-8f67-cc869c04262d",
   "metadata": {},
   "outputs": [],
   "source": [
    "file_name = os.listdir(path)"
   ]
  },
  {
   "cell_type": "code",
   "execution_count": 19,
   "id": "059ec7a8-7d0e-4a39-92c8-08c49d25d692",
   "metadata": {},
   "outputs": [
    {
     "name": "stdout",
     "output_type": "stream",
     "text": [
      "There were files in this path that were not moved!\n"
     ]
    }
   ],
   "source": [
    "for file in file_name:\n",
    "    if \".pdf\" in file and not os.path.exists(path + \"pdf files/\" + file):\n",
    "        shutil.move(path + file, path + \"pdf files/\" + file)\n",
    "    elif \".jpg\" in file and not os.path.exists(path + \"jpg files/\" + file):\n",
    "        shutil.move(path + file, path + \"jpg files/\" + file)\n",
    "    elif \".txt\" in file and not os.path.exists(path + \"txt files/\" + file):\n",
    "        shutil.move(path + file, path + \"txt files/\" + file)\n",
    "    elif \".docx\" in file and not os.path.exists(path + \"docx files/\" + file):\n",
    "        shutil.move(path + file, path + \"docx files/\" + file)\n",
    "    elif \".epub\" in file and not os.path.exists(path + \"epub files/\" + file):\n",
    "        shutil.move(path + file, path + \"epub files/\" + file)\n",
    "    elif \".mobi\" in file and not os.path.exists(path + \"mobi files/\" + file):\n",
    "        shutil.move(path + file, path + \"mobi files/\" + file)\n",
    "else:\n",
    "    print(\"There were files in this path that were not moved!\")"
   ]
  },
  {
   "cell_type": "code",
   "execution_count": null,
   "id": "a88bf5fe-e02f-47c8-b057-207db795461d",
   "metadata": {},
   "outputs": [],
   "source": []
  },
  {
   "cell_type": "markdown",
   "id": "de5348ba-0157-4290-bf9f-834cc3ef7b6b",
   "metadata": {},
   "source": [
    "# Final Code"
   ]
  },
  {
   "cell_type": "code",
   "execution_count": 39,
   "id": "7e6d9134-9837-469b-8342-b3459215dc42",
   "metadata": {},
   "outputs": [],
   "source": [
    "folder_names = ['jpg files', 'txt files', 'docx files', 'pdf files', 'epub files', 'mobi files']\n",
    "\n",
    "for loop in range(0,6):\n",
    "    if not os.path.exists(path + folder_names[loop]):\n",
    "        print(path + folder_names[loop])\n",
    "        os.makedirs((path + folder_names[loop]))\n",
    "\n",
    "for file in file_name:\n",
    "    if \".pdf\" in file and not os.path.exists(path + \"pdf files/\" + file):\n",
    "        shutil.move(path + file, path + \"pdf files/\" + file)\n",
    "    elif \".jpg\" in file and not os.path.exists(path + \"jpg files/\" + file):\n",
    "        shutil.move(path + file, path + \"jpg files/\" + file)\n",
    "    elif \".txt\" in file and not os.path.exists(path + \"txt files/\" + file):\n",
    "        shutil.move(path + file, path + \"txt files/\" + file)\n",
    "    elif \".docx\" in file and not os.path.exists(path + \"docx files/\" + file):\n",
    "        shutil.move(path + file, path + \"docx files/\" + file)\n",
    "    elif \".epub\" in file and not os.path.exists(path + \"epub files/\" + file):\n",
    "        shutil.move(path + file, path + \"epub files/\" + file)\n",
    "    elif \".mobi\" in file and not os.path.exists(path + \"mobi files/\" + file):\n",
    "        shutil.move(path + file, path + \"mobi files/\" + file)"
   ]
  },
  {
   "cell_type": "code",
   "execution_count": null,
   "id": "87ef020f-f65d-4aef-90ac-56f94ab3ec5e",
   "metadata": {},
   "outputs": [],
   "source": []
  },
  {
   "cell_type": "code",
   "execution_count": null,
   "id": "f8983e3b-703f-4c97-8269-f2725b279371",
   "metadata": {},
   "outputs": [],
   "source": []
  },
  {
   "cell_type": "code",
   "execution_count": null,
   "id": "3d1b97c8-baa4-4f2a-a304-be959d1d507a",
   "metadata": {},
   "outputs": [],
   "source": []
  },
  {
   "cell_type": "code",
   "execution_count": null,
   "id": "467d7c59-bf34-4fdc-8fb9-f23a5674e23a",
   "metadata": {},
   "outputs": [],
   "source": []
  },
  {
   "cell_type": "code",
   "execution_count": null,
   "id": "94fc43d0-a200-444b-9e84-e25592339f4b",
   "metadata": {},
   "outputs": [],
   "source": []
  },
  {
   "cell_type": "code",
   "execution_count": null,
   "id": "f5816953-56b4-4a5d-af79-ed0585028c98",
   "metadata": {},
   "outputs": [],
   "source": []
  },
  {
   "cell_type": "code",
   "execution_count": null,
   "id": "9b558701-eec4-46d2-b319-a863dbc4412e",
   "metadata": {},
   "outputs": [],
   "source": []
  },
  {
   "cell_type": "code",
   "execution_count": null,
   "id": "248253bc-453d-4622-8e09-715fdf6b5241",
   "metadata": {},
   "outputs": [],
   "source": []
  },
  {
   "cell_type": "code",
   "execution_count": null,
   "id": "3f2c6549-bfa8-428d-80c0-f526a6d88ed0",
   "metadata": {},
   "outputs": [],
   "source": []
  },
  {
   "cell_type": "code",
   "execution_count": null,
   "id": "5e6931d6-63a2-4c13-9be2-7bafe9a430a5",
   "metadata": {},
   "outputs": [],
   "source": []
  },
  {
   "cell_type": "code",
   "execution_count": null,
   "id": "334e619d-734d-4d88-9a34-feb995499616",
   "metadata": {},
   "outputs": [],
   "source": []
  }
 ],
 "metadata": {
  "kernelspec": {
   "display_name": "Python 3 (ipykernel)",
   "language": "python",
   "name": "python3"
  },
  "language_info": {
   "codemirror_mode": {
    "name": "ipython",
    "version": 3
   },
   "file_extension": ".py",
   "mimetype": "text/x-python",
   "name": "python",
   "nbconvert_exporter": "python",
   "pygments_lexer": "ipython3",
   "version": "3.11.7"
  }
 },
 "nbformat": 4,
 "nbformat_minor": 5
}
